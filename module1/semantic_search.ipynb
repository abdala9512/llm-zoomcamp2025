{
 "cells": [
  {
   "cell_type": "markdown",
   "id": "676adfa9-7748-417f-a5e7-9023d36f394a",
   "metadata": {},
   "source": [
    "# RAG - Semantic Search"
   ]
  },
  {
   "cell_type": "code",
   "execution_count": 2,
   "id": "d1d66ceb-3b7c-4923-a2ea-cd118a1e4f79",
   "metadata": {},
   "outputs": [
    {
     "name": "stderr",
     "output_type": "stream",
     "text": [
      "/Users/miguelarquezabdala/repos/llm-zoomcamp2025/.venv/lib/python3.9/site-packages/urllib3/__init__.py:35: NotOpenSSLWarning: urllib3 v2 only supports OpenSSL 1.1.1+, currently the 'ssl' module is compiled with 'LibreSSL 2.8.3'. See: https://github.com/urllib3/urllib3/issues/3020\n",
      "  warnings.warn(\n",
      "USER_AGENT environment variable not set, consider setting it to identify your requests.\n"
     ]
    }
   ],
   "source": [
    "import os\n",
    "\n",
    "\n",
    "import json\n",
    "from openai import OpenAI\n",
    "from dotenv import load_dotenv\n",
    "from langchain_core.prompts import PromptTemplate\n",
    "from langchain_core.prompts import ChatPromptTemplate\n",
    "from langchain_community.document_loaders import WebBaseLoader\n"
   ]
  },
  {
   "cell_type": "code",
   "execution_count": 3,
   "id": "045953a7-3d4e-4a54-8fbf-c177149a8d9d",
   "metadata": {},
   "outputs": [
    {
     "data": {
      "text/plain": [
       "True"
      ]
     },
     "execution_count": 3,
     "metadata": {},
     "output_type": "execute_result"
    }
   ],
   "source": [
    "load_dotenv()"
   ]
  },
  {
   "cell_type": "markdown",
   "id": "7e461d06-8ad4-4a4d-bf60-fe14293c2cd8",
   "metadata": {},
   "source": [
    "# 1. Embedding Model"
   ]
  },
  {
   "cell_type": "code",
   "execution_count": 18,
   "id": "ab135388-3300-4536-bbf7-d5d5b5d228fc",
   "metadata": {},
   "outputs": [
    {
     "name": "stderr",
     "output_type": "stream",
     "text": [
      "/Users/miguelarquezabdala/repos/llm-zoomcamp2025/.venv/lib/python3.9/site-packages/tqdm/auto.py:21: TqdmWarning: IProgress not found. Please update jupyter and ipywidgets. See https://ipywidgets.readthedocs.io/en/stable/user_install.html\n",
      "  from .autonotebook import tqdm as notebook_tqdm\n"
     ]
    }
   ],
   "source": [
    "from sentence_transformers import SentenceTransformer\n",
    "\n",
    "model = SentenceTransformer(\"all-mpnet-base-v2\")"
   ]
  },
  {
   "cell_type": "markdown",
   "id": "658199f1-def0-4c98-9c05-0e9138316c07",
   "metadata": {},
   "source": [
    "# 1. JSON Web data loader"
   ]
  },
  {
   "cell_type": "code",
   "execution_count": 19,
   "id": "a42898f6-2ba6-4b3b-8ab6-e0fb036eeaf5",
   "metadata": {},
   "outputs": [],
   "source": [
    "DOCUMENTS_URL = \"https://raw.githubusercontent.com/DataTalksClub/llm-zoomcamp/refs/heads/main/01-intro/documents.json\"\n",
    "loader = WebBaseLoader(DOCUMENTS_URL)\n",
    "\n",
    "docs = loader.load()"
   ]
  },
  {
   "cell_type": "code",
   "execution_count": 23,
   "id": "f3e13151-88f9-4195-9039-f929d17178f8",
   "metadata": {},
   "outputs": [],
   "source": [
    "\n",
    "_docs = json.loads(docs[0].page_content)\n",
    "documents = []\n",
    "\n",
    "for txt in _docs:\n",
    "    for doc in txt['documents']:\n",
    "        doc['course'] = txt['course']\n",
    "        doc[\"text_embedding\"] = model.encode(doc[\"text\"]).tolist()\n",
    "        documents.append(doc)"
   ]
  },
  {
   "cell_type": "markdown",
   "id": "eab94fc3-0458-490d-801d-52f5904b996b",
   "metadata": {},
   "source": [
    "# Index documents in Elastic Search"
   ]
  },
  {
   "cell_type": "code",
   "execution_count": 24,
   "id": "32b0f35e-a0f2-4a0e-88c9-eb08d23248d6",
   "metadata": {},
   "outputs": [
    {
     "data": {
      "text/plain": [
       "ObjectApiResponse({'name': '628c37060246', 'cluster_name': 'docker-cluster', 'cluster_uuid': 'uhL8fz6vRcmsRJgIZ4b9Lg', 'version': {'number': '8.4.3', 'build_flavor': 'default', 'build_type': 'docker', 'build_hash': '42f05b9372a9a4a470db3b52817899b99a76ee73', 'build_date': '2022-10-04T07:17:24.662462378Z', 'build_snapshot': False, 'lucene_version': '9.3.0', 'minimum_wire_compatibility_version': '7.17.0', 'minimum_index_compatibility_version': '7.0.0'}, 'tagline': 'You Know, for Search'})"
      ]
     },
     "execution_count": 24,
     "metadata": {},
     "output_type": "execute_result"
    }
   ],
   "source": [
    "import json\n",
    "from elasticsearch import Elasticsearch\n",
    "from tqdm import tqdm\n",
    "\n",
    "es_client = Elasticsearch(\"http://localhost:9200\")\n",
    "es_client.info()"
   ]
  },
  {
   "cell_type": "code",
   "execution_count": 25,
   "id": "fc4c79ef-427e-4c68-b57f-80863e456505",
   "metadata": {},
   "outputs": [
    {
     "data": {
      "text/plain": [
       "ObjectApiResponse({'acknowledged': True, 'shards_acknowledged': True, 'index': 'course-questions'})"
      ]
     },
     "execution_count": 25,
     "metadata": {},
     "output_type": "execute_result"
    }
   ],
   "source": [
    "_index_settings = {\n",
    "    \"settings\": {\n",
    "        \"number_of_shards\": 1,\n",
    "        \"number_of_replicas\": 0\n",
    "    },\n",
    "    \"mappings\": {\n",
    "        \"properties\": {\n",
    "            \"text\": {\"type\": \"text\"},\n",
    "            \"section\": {\"type\": \"text\"},\n",
    "            \"question\": {\"type\": \"text\"},\n",
    "            \"course\": {\"type\": \"keyword\"},\n",
    "            \"text_embedding\": {\"type\": \"dense_vector\", \"dims\": 768, \"index\" :True, \"similarity\": \"cosine\"}\n",
    "        }\n",
    "    }\n",
    "}\n",
    "\n",
    "index_name = \"course-questions\"\n",
    "es_client.indices.delete(index=index_name, ignore_unavailable=True)\n",
    "es_client.indices.create(index=index_name, body=_index_settings)"
   ]
  },
  {
   "cell_type": "code",
   "execution_count": 26,
   "id": "c43cc8a8-48d6-4cd7-a286-3bae6f2ae947",
   "metadata": {},
   "outputs": [
    {
     "name": "stderr",
     "output_type": "stream",
     "text": [
      "100%|███████████████████████████████████████████████████████████████████████████████████████████████████████████████████████████████████████████| 918/918 [00:03<00:00, 234.51it/s]\n"
     ]
    }
   ],
   "source": [
    "for doc in tqdm(documents):\n",
    "    try:\n",
    "        es_client.index(index=index_name,document=doc)\n",
    "    except Exception as e:\n",
    "        print(e)"
   ]
  },
  {
   "cell_type": "markdown",
   "id": "2312159e-2056-409d-b777-f0527375c1c9",
   "metadata": {},
   "source": [
    "# Query Test"
   ]
  },
  {
   "cell_type": "code",
   "execution_count": 44,
   "id": "f63cbebc-0c41-4d86-9b91-940dcf9ec5d1",
   "metadata": {},
   "outputs": [],
   "source": [
    "search_term = \"Linux or Mac?\"\n",
    "vec_search_team = model.encode(search_term)"
   ]
  },
  {
   "cell_type": "code",
   "execution_count": 45,
   "id": "fa9f56f9-a080-421b-9938-e97c993c57d9",
   "metadata": {},
   "outputs": [
    {
     "data": {
      "text/plain": [
       "[{'_index': 'course-questions',\n",
       "  '_id': 'x9FMapcBpKyLRyp8SYV9',\n",
       "  '_score': 1.5507109,\n",
       "  '_source': {'question': 'Environment - Is the course [Windows/mac/Linux/...] friendly?',\n",
       "   'course': 'data-engineering-zoomcamp',\n",
       "   'section': 'General course-related questions',\n",
       "   'text': 'Yes! Linux is ideal but technically it should not matter. Students last year used all 3 OSes successfully'}},\n",
       " {'_index': 'course-questions',\n",
       "  '_id': 'u9FMapcBpKyLRyp8SYUj',\n",
       "  '_score': 1.3968079,\n",
       "  '_source': {'question': 'Environment - Do I need both GitHub Codespaces and GCP?',\n",
       "   'course': 'data-engineering-zoomcamp',\n",
       "   'section': 'General course-related questions',\n",
       "   'text': 'Choose the approach that aligns the most with your idea for the end project\\nOne of those should suffice. However, BigQuery, which is part of GCP, will be used, so learning that is probably a better option. Or you can set up a local environment for most of this course.'}},\n",
       " {'_index': 'course-questions',\n",
       "  '_id': 'uNFMapcBpKyLRyp8SYUB',\n",
       "  '_score': 1.3845971,\n",
       "  '_source': {'question': 'Environment - Should I use my local machine, GCP, or GitHub Codespaces for my environment?',\n",
       "   'course': 'data-engineering-zoomcamp',\n",
       "   'section': 'General course-related questions',\n",
       "   'text': 'You can set it up on your laptop or PC if you prefer to work locally from your laptop or PC.\\nYou might face some challenges, especially for Windows users. If you face cnd2\\nIf you prefer to work on the local machine, you may start with the week 1 Introduction to Docker and follow through.\\nHowever, if you prefer to set up a virtual machine, you may start with these first:\\nUsing GitHub Codespaces\\nSetting up the environment on a cloudV Mcodespace\\nI decided to work on a virtual machine because I have different laptops & PCs for my home & office, so I can work on this boot camp virtually anywhere.'}},\n",
       " {'_index': 'course-questions',\n",
       "  '_id': 'pNFMapcBpKyLRyp8SIVi',\n",
       "  '_score': 0.778914,\n",
       "  '_source': {'question': 'Course - When will the course start?',\n",
       "   'course': 'data-engineering-zoomcamp',\n",
       "   'section': 'General course-related questions',\n",
       "   'text': \"The purpose of this document is to capture frequently asked technical questions\\nThe exact day and hour of the course will be 15th Jan 2024 at 17h00. The course will start with the first  “Office Hours'' live.1\\nSubscribe to course public Google Calendar (it works from Desktop only).\\nRegister before the course starts using this link.\\nJoin the course Telegram channel with announcements.\\nDon’t forget to register in DataTalks.Club's Slack and join the channel.\"}},\n",
       " {'_index': 'course-questions',\n",
       "  '_id': 'pdFMapcBpKyLRyp8SIVs',\n",
       "  '_score': 0.778914,\n",
       "  '_source': {'question': 'Course - What are the prerequisites for this course?',\n",
       "   'course': 'data-engineering-zoomcamp',\n",
       "   'section': 'General course-related questions',\n",
       "   'text': 'GitHub - DataTalksClub data-engineering-zoomcamp#prerequisites'}},\n",
       " {'_index': 'course-questions',\n",
       "  '_id': 'ptFMapcBpKyLRyp8SIVw',\n",
       "  '_score': 0.778914,\n",
       "  '_source': {'question': 'Course - Can I still join the course after the start date?',\n",
       "   'course': 'data-engineering-zoomcamp',\n",
       "   'section': 'General course-related questions',\n",
       "   'text': \"Yes, even if you don't register, you're still eligible to submit the homeworks.\\nBe aware, however, that there will be deadlines for turning in the final projects. So don't leave everything for the last minute.\"}},\n",
       " {'_index': 'course-questions',\n",
       "  '_id': 'p9FMapcBpKyLRyp8SIV6',\n",
       "  '_score': 0.778914,\n",
       "  '_source': {'question': 'Course - I have registered for the Data Engineering Bootcamp. When can I expect to receive the confirmation email?',\n",
       "   'course': 'data-engineering-zoomcamp',\n",
       "   'section': 'General course-related questions',\n",
       "   'text': \"You don't need it. You're accepted. You can also just start learning and submitting homework without registering. It is not checked against any registered list. Registration is just to gauge interest before the start date.\"}},\n",
       " {'_index': 'course-questions',\n",
       "  '_id': 'qNFMapcBpKyLRyp8SIWE',\n",
       "  '_score': 0.778914,\n",
       "  '_source': {'question': 'Course - What can I do before the course starts?',\n",
       "   'course': 'data-engineering-zoomcamp',\n",
       "   'section': 'General course-related questions',\n",
       "   'text': 'You can start by installing and setting up all the dependencies and requirements:\\nGoogle cloud account\\nGoogle Cloud SDK\\nPython 3 (installed with Anaconda)\\nTerraform\\nGit\\nLook over the prerequisites and syllabus to see if you are comfortable with these subjects.'}},\n",
       " {'_index': 'course-questions',\n",
       "  '_id': 'qdFMapcBpKyLRyp8SIWQ',\n",
       "  '_score': 0.778914,\n",
       "  '_source': {'question': 'Course - how many Zoomcamps in a year?',\n",
       "   'course': 'data-engineering-zoomcamp',\n",
       "   'section': 'General course-related questions',\n",
       "   'text': \"There are 3 Zoom Camps in a year, as of 2024. However, they are for separate courses:\\nData-Engineering (Jan - Apr)\\nMLOps (May - Aug)\\nMachine Learning (Sep - Jan)\\nThere's only one Data-Engineering Zoomcamp “live” cohort per year, for the certification. Same as for the other Zoomcamps.\\nThey follow pretty much the same schedule for each cohort per zoomcamp. For Data-Engineering it is (generally) from Jan-Apr of the year. If you’re not interested in the Certificate, you can take any zoom camps at any time, at your own pace, out of sync with any “live” cohort.\"}},\n",
       " {'_index': 'course-questions',\n",
       "  '_id': 'qtFMapcBpKyLRyp8SIWV',\n",
       "  '_score': 0.778914,\n",
       "  '_source': {'question': 'Course - Is the current cohort going to be different from the previous cohort?',\n",
       "   'course': 'data-engineering-zoomcamp',\n",
       "   'section': 'General course-related questions',\n",
       "   'text': 'Yes. For the 2024 edition we are using Mage AI instead of Prefect and re-recorded the terraform videos, For 2023, we used Prefect instead of Airflow..'}}]"
      ]
     },
     "execution_count": 45,
     "metadata": {},
     "output_type": "execute_result"
    }
   ],
   "source": [
    "query = {\n",
    "    \"field\": \"text_embedding\",\n",
    "    \"query_vector\": vec_search_team,\n",
    "    \"k\": 5,\n",
    "    \"num_candidates\": 10000\n",
    "}\n",
    "\n",
    "result = es_client.search(\n",
    "    query={\n",
    "        \"match\": {\n",
    "            \"course\": \"data-engineering-zoomcamp\"\n",
    "        }\n",
    "    },\n",
    "    index=index_name, knn=query, source=[\"text\", \"section\", \"course\", \"question\"]\n",
    ")\n",
    "result[\"hits\"][\"hits\"]"
   ]
  },
  {
   "cell_type": "markdown",
   "id": "aabee10c-23e5-493a-9bee-d8ee2efb7f06",
   "metadata": {},
   "source": [
    "# RAG"
   ]
  },
  {
   "cell_type": "code",
   "execution_count": 67,
   "id": "9096ab65-c00f-4bdf-a155-f499b352f937",
   "metadata": {},
   "outputs": [],
   "source": [
    "from langchain_core.prompts import ChatPromptTemplate\n",
    "from langchain_openai import ChatOpenAI\n",
    "from elasticsearch import Elasticsearch\n",
    "\n",
    "\n",
    "INDEX_NAME = \"course-questions\"\n",
    "\n",
    "class SemanticSearchRAG:\n",
    "\n",
    "    def __init__(self, llm, ss_embedding_model, template: str) -> None:\n",
    "        self.model = llm\n",
    "        self.embedding_model = ss_embedding_model\n",
    "        self.es_client = Elasticsearch(\"http://localhost:9200\")\n",
    "        self.prompt = template\n",
    "\n",
    "    def encode(self, search_term: str):\n",
    "        \n",
    "        vec_search_term = self.embedding_model.encode(search_term)\n",
    "        return vec_search_term\n",
    "\n",
    "    def elastic_search(self, query: str):\n",
    "\n",
    "        search_query = {\n",
    "            \"field\": \"text_embedding\",\n",
    "            \"query_vector\": self.encode(query),\n",
    "            \"k\": 5,\n",
    "            \"num_candidates\": 10000,\n",
    "        }\n",
    "\n",
    "        response = self.es_client.search(\n",
    "            query={\n",
    "                \"match\": {\n",
    "                    \"course\": \"data-engineering-zoomcamp\"\n",
    "                }\n",
    "            },\n",
    "            index=INDEX_NAME, knn=search_query, \n",
    "            source=[\"text\", \"section\", \"course\", \"question\"]\n",
    "        )        \n",
    "        result_docs = []\n",
    "        \n",
    "        for hit in response['hits']['hits']:\n",
    "            result_docs.append(hit['_source'])\n",
    "        \n",
    "        return result_docs\n",
    "\n",
    "    def query(self, question: str):\n",
    "        search_results = self.elastic_search(question)\n",
    "        chain = self.prompt | self.model\n",
    "        response = chain.invoke(\n",
    "            {\n",
    "                \"context\": search_results, # elasticsearch \n",
    "                \"question\": question,\n",
    "            }\n",
    "        )\n",
    "        # print(search_results)\n",
    "        return response.content"
   ]
  },
  {
   "cell_type": "markdown",
   "id": "e82ecaee-b3c4-4098-9ed7-bc6a9f327966",
   "metadata": {},
   "source": [
    "# RAG Orchestration"
   ]
  },
  {
   "cell_type": "code",
   "execution_count": 43,
   "id": "0c8b6dfe-37be-4e8d-88cc-9f690cf7f09f",
   "metadata": {},
   "outputs": [],
   "source": [
    "llm = ChatOpenAI(\n",
    "    model=\"gpt-4o\",\n",
    "    temperature=0,\n",
    "    max_tokens=None,\n",
    "    timeout=None,\n",
    "    max_retries=2,\n",
    ")\n",
    "\n",
    "embedding_model = SentenceTransformer(\"all-mpnet-base-v2\")"
   ]
  },
  {
   "cell_type": "code",
   "execution_count": 45,
   "id": "dd5550e4-a9f3-447d-90a6-8f362b4fb65b",
   "metadata": {},
   "outputs": [],
   "source": [
    "rag = SemanticSearchRAG(\n",
    "    llm=llm,\n",
    "    ss_embedding_model=embedding_model,\n",
    "    template=ChatPromptTemplate.from_messages(\n",
    "            [\n",
    "                (\n",
    "                    \"system\",\n",
    "                    \"\"\"\n",
    "                    You're a course teaching assistant. Answer the QUESTION based on the CONTEXT from the FAQ database.\n",
    "                    Use only the facts from the CONTEXT when answering the QUESTION.\n",
    "                    CONTEXT: \n",
    "                    {context}\n",
    "                    \"\"\",\n",
    "                ),\n",
    "                (\"human\", \"{question}\"),\n",
    "            ]\n",
    "        )\n",
    ")"
   ]
  },
  {
   "cell_type": "code",
   "execution_count": 47,
   "id": "810d0901-a5c0-4558-9f26-f7ee6169fa2c",
   "metadata": {},
   "outputs": [
    {
     "data": {
      "text/plain": [
       "'The course will cover tools such as Mage AI, Terraform, and Git. Additionally, you will need to set up a Google Cloud account, Google Cloud SDK, and Python 3 (installed with Anaconda) before the course starts.'"
      ]
     },
     "execution_count": 47,
     "metadata": {},
     "output_type": "execute_result"
    }
   ],
   "source": [
    "\n",
    "QUESTION = \"What are the tools that I learn in this course?\"\n",
    "rag.query(question=QUESTION)"
   ]
  },
  {
   "cell_type": "code",
   "execution_count": null,
   "id": "a6f529e4-cd7e-4f52-bebc-321371034882",
   "metadata": {},
   "outputs": [],
   "source": []
  },
  {
   "cell_type": "code",
   "execution_count": null,
   "id": "7774ee46-77be-47ce-87aa-bb2ceedd61c6",
   "metadata": {},
   "outputs": [],
   "source": []
  }
 ],
 "metadata": {
  "kernelspec": {
   "display_name": "Python 3 (ipykernel)",
   "language": "python",
   "name": "python3"
  },
  "language_info": {
   "codemirror_mode": {
    "name": "ipython",
    "version": 3
   },
   "file_extension": ".py",
   "mimetype": "text/x-python",
   "name": "python",
   "nbconvert_exporter": "python",
   "pygments_lexer": "ipython3",
   "version": "3.9.6"
  }
 },
 "nbformat": 4,
 "nbformat_minor": 5
}
