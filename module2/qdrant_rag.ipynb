{
 "cells": [
  {
   "cell_type": "markdown",
   "id": "6fd60e42-2835-4e2e-b50b-a724aa111ada",
   "metadata": {},
   "source": [
    "# Qdrant RAG"
   ]
  },
  {
   "cell_type": "code",
   "execution_count": 1,
   "id": "c7a53f14-f1a9-4f64-b107-38161d7e480f",
   "metadata": {},
   "outputs": [],
   "source": [
    "from qdrant_client import QdrantClient, models\n",
    "from dotenv import load_dotenv\n",
    "from langchain_core.prompts import PromptTemplate\n",
    "from langchain_core.prompts import ChatPromptTemplate\n",
    "from langchain_community.document_loaders import WebBaseLoader\n"
   ]
  },
  {
   "cell_type": "code",
   "execution_count": 3,
   "id": "16c0c41e-bc72-4959-af64-6a5c5c616d9c",
   "metadata": {},
   "outputs": [],
   "source": [
    "client = QdrantClient(\"http://localhost:6333\")\n",
    "\n",
    "class QdrantRAG:\n",
    "\n",
    "    def __init__(self) -> None:\n",
    "        pass\n",
    "        "
   ]
  },
  {
   "cell_type": "code",
   "execution_count": null,
   "id": "6978f403-d16f-47d0-9667-4b5743d97a2b",
   "metadata": {},
   "outputs": [],
   "source": []
  }
 ],
 "metadata": {
  "kernelspec": {
   "display_name": "Python 3 (ipykernel)",
   "language": "python",
   "name": "python3"
  },
  "language_info": {
   "codemirror_mode": {
    "name": "ipython",
    "version": 3
   },
   "file_extension": ".py",
   "mimetype": "text/x-python",
   "name": "python",
   "nbconvert_exporter": "python",
   "pygments_lexer": "ipython3",
   "version": "3.9.6"
  }
 },
 "nbformat": 4,
 "nbformat_minor": 5
}
